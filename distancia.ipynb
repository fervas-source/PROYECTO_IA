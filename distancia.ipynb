{
 "cells": [
  {
   "cell_type": "code",
   "execution_count": 3,
   "metadata": {},
   "outputs": [],
   "source": [
    "### LIBRERIAS\n",
    "\n",
    "from dotenv import load_dotenv\n",
    "from geopy.geocoders import Nominatim\n",
    "import os \n",
    "import ssl\n",
    "import certifi\n",
    "import pandas as pd\n",
    "import geopy.distance\n",
    "\n",
    "# Deshabilitar la verificación SSL\n",
    "ctx = ssl.create_default_context(cafile=certifi.where())\n",
    "ctx.check_hostname = False\n",
    "ctx.verify_mode = ssl.CERT_NONE\n",
    "\n",
    "### "
   ]
  },
  {
   "cell_type": "code",
   "execution_count": 4,
   "metadata": {},
   "outputs": [
    {
     "data": {
      "text/plain": [
       "True"
      ]
     },
     "execution_count": 4,
     "metadata": {},
     "output_type": "execute_result"
    }
   ],
   "source": [
    "load_dotenv()"
   ]
  },
  {
   "cell_type": "code",
   "execution_count": 5,
   "metadata": {},
   "outputs": [],
   "source": [
    "API_KEY_GEOPY = os.getenv(\"API_KEY_GEOPY\")\n",
    "OPENAI_API_KEY = os.getenv(\"OPENAI_API_KEY\")"
   ]
  },
  {
   "cell_type": "code",
   "execution_count": 6,
   "metadata": {},
   "outputs": [],
   "source": [
    "def coordenadas_direccion(direccion):\n",
    "\n",
    "    global API_KEY_GEOPY\n",
    "\n",
    "    # Inicializa el geocodificador\n",
    "    geolocator = Nominatim(user_agent=API_KEY_GEOPY,ssl_context=ctx)\n",
    "\n",
    "    # Geocodifica la dirección\n",
    "    ubicacion = geolocator.geocode(direccion,addressdetails=True)\n",
    "\n",
    "    # Validación 1: Verificar si la dirección se pudo geocodificar\n",
    "    if not ubicacion:\n",
    "        print(\"Error: No se pudo encontrar la dirección. Verifica si es correcta.\")\n",
    "        return None\n",
    "\n",
    "    # Obtener la dirección devuelta y las coordenadas\n",
    "    direccion_devuelta = ubicacion.address\n",
    "    latitud = ubicacion.latitude\n",
    "    longitud = ubicacion.longitude\n",
    "\n",
    "    # Extraer la comuna, ciudad y país desde la información cruda\n",
    "    detalle = ubicacion.raw['address']\n",
    "    ciudad = detalle.get('city', detalle.get('town', detalle.get('village', 'No disponible')))\n",
    "    pais = detalle.get('country', 'No disponible')\n",
    "\n",
    "    # Validación 3: Verificar componentes clave como comuna, ciudad y país\n",
    "    if ciudad == 'No disponible' or pais == 'No disponible':\n",
    "        print(\"Error: La dirección no contiene información clave como la ciudad o el país.\")\n",
    "        return None\n",
    "\n",
    "    # Si pasa todas las validaciones, la dirección es válida\n",
    "    print(\"La dirección es válida.\")\n",
    "    print(f\"Latitud: {latitud}, Longitud: {longitud}\")\n",
    "    print(f\"Ciudad: {ciudad}, País: {pais}\")\n",
    "\n",
    "    # Devolver las coordenadas y la información relevante\n",
    "    return {\n",
    "        \"direccion\": direccion_devuelta,\n",
    "        \"Latitud\": latitud,\n",
    "        \"Longitud\": longitud,\n",
    "        \"ciudad\": ciudad,\n",
    "        \"pais\": pais\n",
    "    }"
   ]
  },
  {
   "cell_type": "code",
   "execution_count": 8,
   "metadata": {},
   "outputs": [
    {
     "name": "stdout",
     "output_type": "stream",
     "text": [
      "La dirección es válida.\n",
      "Latitud: -33.4535321, Longitud: -70.6523693\n",
      "Ciudad: Santiago, País: Chile\n",
      "Coordenadas y detalles de la dirección:\n",
      "{'direccion': 'Banco Falabella, 620, Nataniel Cox, Barrio Copiapó, Santiago, Provincia de Santiago, Región Metropolitana de Santiago, 8330444, Chile', 'Latitud': -33.4535321, 'Longitud': -70.6523693, 'ciudad': 'Santiago', 'pais': 'Chile'}\n"
     ]
    }
   ],
   "source": [
    "direccion = 'Santiago, Región Metropolitana,Nataniel Cox 620'#\"Juan Perez 123, Parral\" # \"Nataniel Cox 620, Santiago, Región Metropolitana\"\n",
    "resultado = coordenadas_direccion(direccion)\n",
    "\n",
    "if resultado:\n",
    "    print(\"Coordenadas y detalles de la dirección:\")\n",
    "    print(resultado)\n"
   ]
  },
  {
   "cell_type": "code",
   "execution_count": 86,
   "metadata": {},
   "outputs": [],
   "source": [
    "dataset = pd.read_csv('Dataset_de_Locales.csv',sep=',')"
   ]
  },
  {
   "cell_type": "code",
   "execution_count": 83,
   "metadata": {},
   "outputs": [
    {
     "data": {
      "text/html": [
       "<div>\n",
       "<style scoped>\n",
       "    .dataframe tbody tr th:only-of-type {\n",
       "        vertical-align: middle;\n",
       "    }\n",
       "\n",
       "    .dataframe tbody tr th {\n",
       "        vertical-align: top;\n",
       "    }\n",
       "\n",
       "    .dataframe thead th {\n",
       "        text-align: right;\n",
       "    }\n",
       "</style>\n",
       "<table border=\"1\" class=\"dataframe\">\n",
       "  <thead>\n",
       "    <tr style=\"text-align: right;\">\n",
       "      <th></th>\n",
       "      <th>fecha</th>\n",
       "      <th>local_id</th>\n",
       "      <th>local_nombre</th>\n",
       "      <th>comuna_nombre</th>\n",
       "      <th>localidad_nombre</th>\n",
       "      <th>local_direccion</th>\n",
       "      <th>funcionamiento_hora_apertura</th>\n",
       "      <th>funcionamiento_hora_cierre</th>\n",
       "      <th>local_telefono</th>\n",
       "      <th>local_lat</th>\n",
       "      <th>local_lng</th>\n",
       "      <th>funcionamiento_dia</th>\n",
       "      <th>fk_region</th>\n",
       "      <th>fk_comuna</th>\n",
       "      <th>fk_localidad</th>\n",
       "    </tr>\n",
       "  </thead>\n",
       "  <tbody>\n",
       "    <tr>\n",
       "      <th>0</th>\n",
       "      <td>14-08-24</td>\n",
       "      <td>1</td>\n",
       "      <td>CRUZ VERDE</td>\n",
       "      <td>QUILLOTA</td>\n",
       "      <td>QUILLOTA</td>\n",
       "      <td>OHIGGINS 195, LOCAL 1</td>\n",
       "      <td>08:30:00</td>\n",
       "      <td>18:30:00</td>\n",
       "      <td>56332269467</td>\n",
       "      <td>-32.879343</td>\n",
       "      <td>-71.246787</td>\n",
       "      <td>miercoles</td>\n",
       "      <td>6</td>\n",
       "      <td>69</td>\n",
       "      <td>32</td>\n",
       "    </tr>\n",
       "    <tr>\n",
       "      <th>1</th>\n",
       "      <td>14-08-24</td>\n",
       "      <td>3</td>\n",
       "      <td>CRUZ VERDE</td>\n",
       "      <td>LIMACHE</td>\n",
       "      <td>LIMACHE</td>\n",
       "      <td>URMENETA 99</td>\n",
       "      <td>08:30:00</td>\n",
       "      <td>18:30:00</td>\n",
       "      <td>56332415940</td>\n",
       "      <td>-32.984992</td>\n",
       "      <td>-71.275718</td>\n",
       "      <td>miercoles</td>\n",
       "      <td>6</td>\n",
       "      <td>59</td>\n",
       "      <td>17</td>\n",
       "    </tr>\n",
       "    <tr>\n",
       "      <th>2</th>\n",
       "      <td>14-08-24</td>\n",
       "      <td>4</td>\n",
       "      <td>CRUZ VERDE</td>\n",
       "      <td>LIMACHE</td>\n",
       "      <td>LIMACHE</td>\n",
       "      <td>REPUBLICA 281</td>\n",
       "      <td>08:30:00</td>\n",
       "      <td>18:30:00</td>\n",
       "      <td>56332418343</td>\n",
       "      <td>-33.002501</td>\n",
       "      <td>-71.265498</td>\n",
       "      <td>miercoles</td>\n",
       "      <td>6</td>\n",
       "      <td>59</td>\n",
       "      <td>17</td>\n",
       "    </tr>\n",
       "  </tbody>\n",
       "</table>\n",
       "</div>"
      ],
      "text/plain": [
       "      fecha  local_id local_nombre comuna_nombre localidad_nombre  \\\n",
       "0  14-08-24         1  CRUZ VERDE       QUILLOTA         QUILLOTA   \n",
       "1  14-08-24         3   CRUZ VERDE       LIMACHE          LIMACHE   \n",
       "2  14-08-24         4   CRUZ VERDE       LIMACHE          LIMACHE   \n",
       "\n",
       "         local_direccion funcionamiento_hora_apertura  \\\n",
       "0  OHIGGINS 195, LOCAL 1                     08:30:00   \n",
       "1            URMENETA 99                     08:30:00   \n",
       "2          REPUBLICA 281                     08:30:00   \n",
       "\n",
       "  funcionamiento_hora_cierre  local_telefono  local_lat  local_lng  \\\n",
       "0                   18:30:00     56332269467 -32.879343 -71.246787   \n",
       "1                   18:30:00     56332415940 -32.984992 -71.275718   \n",
       "2                   18:30:00     56332418343 -33.002501 -71.265498   \n",
       "\n",
       "  funcionamiento_dia  fk_region  fk_comuna  fk_localidad  \n",
       "0          miercoles          6         69            32  \n",
       "1          miercoles          6         59            17  \n",
       "2          miercoles          6         59            17  "
      ]
     },
     "execution_count": 83,
     "metadata": {},
     "output_type": "execute_result"
    }
   ],
   "source": [
    "dataset.head(3)"
   ]
  },
  {
   "cell_type": "code",
   "execution_count": 84,
   "metadata": {},
   "outputs": [],
   "source": [
    "# Función para calcular la distancia y filtrar el dataset para el local con la menor distancia\n",
    "\n",
    "def farmacia_mas_cercana(referencia):\n",
    "    \n",
    "    # Leer el dataset y el archivo de referencia\n",
    "\n",
    "    global dataset\n",
    "    \n",
    "    df = pd.DataFrame(dataset)\n",
    "    punto_referencia = (referencia['Latitud'], referencia['Longitud'])\n",
    "\n",
    "    # Calcular la distancia de cada local respecto al punto de referencia\n",
    "    df['distancia'] = df.apply(\n",
    "        lambda row: geopy.distance.geodesic((float(row['local_lat']), float(row['local_lng'])), punto_referencia).kilometers, axis=1\n",
    "    )\n",
    "\n",
    "    # Filtrar el dataset para el local con la menor distancia\n",
    "    local_mas_cercano = df.loc[df['distancia'].idxmin()]\n",
    "\n",
    "    return local_mas_cercano"
   ]
  },
  {
   "cell_type": "code",
   "execution_count": 88,
   "metadata": {},
   "outputs": [
    {
     "data": {
      "text/plain": [
       "fecha                                14-08-24\n",
       "local_id                                    4\n",
       "local_nombre                       CRUZ VERDE\n",
       "comuna_nombre                         LIMACHE\n",
       "localidad_nombre                      LIMACHE\n",
       "local_direccion                 REPUBLICA 281\n",
       "funcionamiento_hora_apertura         08:30:00\n",
       "funcionamiento_hora_cierre           18:30:00\n",
       "local_telefono                    56332418343\n",
       "local_lat                          -33.002501\n",
       "local_lng                          -71.265498\n",
       "funcionamiento_dia                  miercoles\n",
       "fk_region                                   6\n",
       "fk_comuna                                  59\n",
       "fk_localidad                               17\n",
       "distancia                           75.975135\n",
       "Name: 2, dtype: object"
      ]
     },
     "execution_count": 88,
     "metadata": {},
     "output_type": "execute_result"
    }
   ],
   "source": [
    "farmacia_mas_cercana(resultado)"
   ]
  },
  {
   "cell_type": "code",
   "execution_count": 89,
   "metadata": {},
   "outputs": [],
   "source": [
    "def buscar_farmacia_mas_cercana(direccion):\n",
    "    \n",
    "    global dataset\n",
    "    \n",
    "    # Obtener las coordenadas de la dirección proporcionada\n",
    "    referencia = coordenadas_direccion(direccion)\n",
    "    if referencia is None:\n",
    "        return None\n",
    "\n",
    "    # Encontrar la farmacia más cercana\n",
    "    local_mas_cercano = farmacia_mas_cercana(referencia)\n",
    "\n",
    "    return local_mas_cercano"
   ]
  },
  {
   "cell_type": "code",
   "execution_count": 90,
   "metadata": {},
   "outputs": [
    {
     "name": "stdout",
     "output_type": "stream",
     "text": [
      "La dirección es válida.\n",
      "Latitud: -33.4539161, Longitud: -70.6524198\n",
      "Ciudad: Santiago, País: Chile\n"
     ]
    },
    {
     "data": {
      "text/plain": [
       "fecha                                14-08-24\n",
       "local_id                                    4\n",
       "local_nombre                       CRUZ VERDE\n",
       "comuna_nombre                         LIMACHE\n",
       "localidad_nombre                      LIMACHE\n",
       "local_direccion                 REPUBLICA 281\n",
       "funcionamiento_hora_apertura         08:30:00\n",
       "funcionamiento_hora_cierre           18:30:00\n",
       "local_telefono                    56332418343\n",
       "local_lat                          -33.002501\n",
       "local_lng                          -71.265498\n",
       "funcionamiento_dia                  miercoles\n",
       "fk_region                                   6\n",
       "fk_comuna                                  59\n",
       "fk_localidad                               17\n",
       "distancia                           75.975135\n",
       "Name: 2, dtype: object"
      ]
     },
     "execution_count": 90,
     "metadata": {},
     "output_type": "execute_result"
    }
   ],
   "source": [
    "buscar_farmacia_mas_cercana(direccion)"
   ]
  },
  {
   "cell_type": "code",
   "execution_count": 9,
   "metadata": {},
   "outputs": [],
   "source": [
    "from langchain_core.tools import tool\n",
    "from langchain_openai import ChatOpenAI\n",
    "from langchain_core.prompts import ChatPromptTemplate\n",
    "from langgraph.prebuilt import create_react_agent\n",
    "from pprint import pprint"
   ]
  },
  {
   "cell_type": "code",
   "execution_count": 10,
   "metadata": {},
   "outputs": [],
   "source": [
    "# Dirección como input externo\n",
    "direccion_input = \"Juan Perez 123, Parral\""
   ]
  },
  {
   "cell_type": "code",
   "execution_count": 11,
   "metadata": {},
   "outputs": [
    {
     "name": "stdout",
     "output_type": "stream",
     "text": [
      "Error: No se pudo encontrar la dirección. Verifica si es correcta.\n"
     ]
    }
   ],
   "source": [
    "model = ChatOpenAI(model=\"gpt-4o\")\n",
    "\n",
    "@tool\n",
    "def buscar_farmacia_mas_cercana(direccion):\n",
    "    \n",
    "    \"\"\"\n",
    "    Encuentra la farmacia más cercana a la dirección proporcionada.\n",
    "\n",
    "    Args:\n",
    "        direccion (str): La dirección para la cual se quiere encontrar la farmacia más cercana.\n",
    "        dataset (list): Un dataset que contiene las farmacias con sus coordenadas.\n",
    "\n",
    "    Returns:\n",
    "        dict: La farmacia más cercana con la información relevante.\n",
    "    \"\"\"\n",
    "    # Obtener las coordenadas de la dirección proporcionada\n",
    "\n",
    "    global dataset \n",
    "\n",
    "    referencia = coordenadas_direccion(direccion)\n",
    "    if referencia is None:\n",
    "        return None\n",
    "\n",
    "    # Encontrar la farmacia más cercana\n",
    "    local_mas_cercano = farmacia_mas_cercana(referencia)\n",
    "\n",
    "    return local_mas_cercano\n",
    "\n",
    "\n",
    "tools = [buscar_farmacia_mas_cercana]\n",
    "system_message = \"Eres un asistente que ayuda a encontrar farmacias cercanas basadas en la dirección proporcionada.\"\n",
    "\n",
    "# Cambiar la consulta (query) usando la dirección como input\n",
    "query = f\"\"\"\n",
    "        Encuentra la farmacia más cercana a la siguiente dirección: {direccion_input}. \n",
    "        La respuesta debe venir estructurada, de la siguiente manera:\n",
    "\n",
    "        - La Farmacia más cercana es: \n",
    "        - Su dirección es:\n",
    "        - Su horario de Apertura es:\n",
    "        - Su horario de Cierre es:\n",
    "        - La distancia a su dirección de referencia es:\n",
    "\n",
    "        Donde la distancia solo debe entregar dos decimales como máximo y debe venir sin estos strings \"**\".\n",
    "        \"\"\"\n",
    "\n",
    "# Crear la aplicación React con LangChain\n",
    "app = create_react_agent(model, tools, state_modifier=system_message)\n",
    "\n",
    "# Invocar la aplicación con la consulta\n",
    "messages = app.invoke({\"messages\": [(\"human\", query)]})"
   ]
  },
  {
   "cell_type": "code",
   "execution_count": 105,
   "metadata": {},
   "outputs": [],
   "source": [
    "from langchain.schema import AIMessage"
   ]
  },
  {
   "cell_type": "code",
   "execution_count": 136,
   "metadata": {},
   "outputs": [],
   "source": [
    "ai_messages = [msg for msg in messages['messages'] if isinstance(msg, AIMessage)]"
   ]
  },
  {
   "cell_type": "code",
   "execution_count": 137,
   "metadata": {},
   "outputs": [
    {
     "name": "stdout",
     "output_type": "stream",
     "text": [
      "- La Farmacia más cercana es: CRUZ VERDE\n",
      "- Su dirección es: REPUBLICA 281, LIMACHE\n",
      "- Su horario de Apertura es: 08:30:00\n",
      "- Su horario de Cierre es: 18:30:00\n",
      "- La distancia a su dirección de referencia es: 75.98 km\n"
     ]
    }
   ],
   "source": [
    "print(ai_messages[-1].content)"
   ]
  }
 ],
 "metadata": {
  "kernelspec": {
   "display_name": "Python 3.10.8 ('env': venv)",
   "language": "python",
   "name": "python3"
  },
  "language_info": {
   "codemirror_mode": {
    "name": "ipython",
    "version": 3
   },
   "file_extension": ".py",
   "mimetype": "text/x-python",
   "name": "python",
   "nbconvert_exporter": "python",
   "pygments_lexer": "ipython3",
   "version": "3.10.8"
  },
  "orig_nbformat": 4,
  "vscode": {
   "interpreter": {
    "hash": "75668f1ecc4fafdd544fbdcac2d4752801a4a863cb3423a789f6cc0b3df8c2b3"
   }
  }
 },
 "nbformat": 4,
 "nbformat_minor": 2
}
